{
  "nbformat": 4,
  "nbformat_minor": 0,
  "metadata": {
    "colab": {
      "name": "Copy of 1_codingtest2_baseline_code.ipynb",
      "provenance": [],
      "collapsed_sections": [],
      "include_colab_link": true
    },
    "kernelspec": {
      "display_name": "Python 3",
      "language": "python",
      "name": "python3"
    },
    "language_info": {
      "codemirror_mode": {
        "name": "ipython",
        "version": 3
      },
      "file_extension": ".py",
      "mimetype": "text/x-python",
      "name": "python",
      "nbconvert_exporter": "python",
      "pygments_lexer": "ipython3",
      "version": "3.8.8"
    }
  },
  "cells": [
    {
      "cell_type": "markdown",
      "metadata": {
        "id": "view-in-github",
        "colab_type": "text"
      },
      "source": [
        "<a href=\"https://colab.research.google.com/github/sfsf9797/ML_FROM_SCRATCH/blob/master/ImageSegmentation.ipynb\" target=\"_parent\"><img src=\"https://colab.research.google.com/assets/colab-badge.svg\" alt=\"Open In Colab\"/></a>"
      ]
    },
    {
      "cell_type": "markdown",
      "metadata": {
        "id": "3g-RkP76VEi9"
      },
      "source": [
        "# This baseline code requires a GPU device. If you have not selected the GPU runtime type, you can change the runtime type to enable GPU."
      ]
    },
    {
      "cell_type": "code",
      "metadata": {
        "colab": {
          "base_uri": "https://localhost:8080/"
        },
        "id": "qYtzlI24E5-Y",
        "outputId": "36de2935-7d63-4ad5-cdb9-cebfe1d420e3"
      },
      "source": [
        "!pip install  --upgrade albumentations"
      ],
      "execution_count": 1,
      "outputs": [
        {
          "output_type": "stream",
          "text": [
            "Requirement already up-to-date: albumentations in /usr/local/lib/python3.7/dist-packages (1.0.0)\n",
            "Requirement already satisfied, skipping upgrade: opencv-python-headless>=4.1.1 in /usr/local/lib/python3.7/dist-packages (from albumentations) (4.5.2.52)\n",
            "Requirement already satisfied, skipping upgrade: PyYAML in /usr/local/lib/python3.7/dist-packages (from albumentations) (3.13)\n",
            "Requirement already satisfied, skipping upgrade: scikit-image>=0.16.1 in /usr/local/lib/python3.7/dist-packages (from albumentations) (0.16.2)\n",
            "Requirement already satisfied, skipping upgrade: scipy in /usr/local/lib/python3.7/dist-packages (from albumentations) (1.4.1)\n",
            "Requirement already satisfied, skipping upgrade: numpy>=1.11.1 in /usr/local/lib/python3.7/dist-packages (from albumentations) (1.19.5)\n",
            "Requirement already satisfied, skipping upgrade: networkx>=2.0 in /usr/local/lib/python3.7/dist-packages (from scikit-image>=0.16.1->albumentations) (2.5.1)\n",
            "Requirement already satisfied, skipping upgrade: pillow>=4.3.0 in /usr/local/lib/python3.7/dist-packages (from scikit-image>=0.16.1->albumentations) (7.1.2)\n",
            "Requirement already satisfied, skipping upgrade: matplotlib!=3.0.0,>=2.0.0 in /usr/local/lib/python3.7/dist-packages (from scikit-image>=0.16.1->albumentations) (3.2.2)\n",
            "Requirement already satisfied, skipping upgrade: PyWavelets>=0.4.0 in /usr/local/lib/python3.7/dist-packages (from scikit-image>=0.16.1->albumentations) (1.1.1)\n",
            "Requirement already satisfied, skipping upgrade: imageio>=2.3.0 in /usr/local/lib/python3.7/dist-packages (from scikit-image>=0.16.1->albumentations) (2.4.1)\n",
            "Requirement already satisfied, skipping upgrade: decorator<5,>=4.3 in /usr/local/lib/python3.7/dist-packages (from networkx>=2.0->scikit-image>=0.16.1->albumentations) (4.4.2)\n",
            "Requirement already satisfied, skipping upgrade: python-dateutil>=2.1 in /usr/local/lib/python3.7/dist-packages (from matplotlib!=3.0.0,>=2.0.0->scikit-image>=0.16.1->albumentations) (2.8.1)\n",
            "Requirement already satisfied, skipping upgrade: pyparsing!=2.0.4,!=2.1.2,!=2.1.6,>=2.0.1 in /usr/local/lib/python3.7/dist-packages (from matplotlib!=3.0.0,>=2.0.0->scikit-image>=0.16.1->albumentations) (2.4.7)\n",
            "Requirement already satisfied, skipping upgrade: cycler>=0.10 in /usr/local/lib/python3.7/dist-packages (from matplotlib!=3.0.0,>=2.0.0->scikit-image>=0.16.1->albumentations) (0.10.0)\n",
            "Requirement already satisfied, skipping upgrade: kiwisolver>=1.0.1 in /usr/local/lib/python3.7/dist-packages (from matplotlib!=3.0.0,>=2.0.0->scikit-image>=0.16.1->albumentations) (1.3.1)\n",
            "Requirement already satisfied, skipping upgrade: six>=1.5 in /usr/local/lib/python3.7/dist-packages (from python-dateutil>=2.1->matplotlib!=3.0.0,>=2.0.0->scikit-image>=0.16.1->albumentations) (1.15.0)\n"
          ],
          "name": "stdout"
        }
      ]
    },
    {
      "cell_type": "code",
      "metadata": {
        "colab": {
          "base_uri": "https://localhost:8080/"
        },
        "id": "xif7iKbpsbrH",
        "outputId": "c904d812-f622-4d75-f33d-1db61754e437"
      },
      "source": [
        "import os\n",
        "import random\n",
        "import time\n",
        "import json\n",
        "\n",
        "import torch\n",
        "import torch.nn as nn\n",
        "from torch.utils.data import Dataset, DataLoader\n",
        "import cv2\n",
        "\n",
        "import numpy as np\n",
        "import pandas as pd\n",
        "\n",
        "# Python package for pre-processing \n",
        "from pycocotools.coco import COCO\n",
        "import torchvision\n",
        "import torchvision.transforms as transforms\n",
        "\n",
        "import albumentations as A\n",
        "from albumentations.pytorch import ToTensorV2\n",
        "\n",
        "# Python package for visualization\n",
        "import matplotlib.pyplot as plt\n",
        "import seaborn as sns; sns.set()\n",
        "\n",
        "\n",
        "\n",
        "plt.rcParams['axes.grid'] = False\n",
        "\n",
        "print('Pytorch version: {}'.format(torch.__version__))\n",
        "print('Is GPU available: {}'.format(torch.cuda.is_available()))\n",
        "if torch.cuda.is_available():\n",
        "  print(torch.cuda.get_device_name(0))\n",
        "  print('The number of GPUs available: {}'.format(torch.cuda.device_count()))\n",
        "device = \"cuda\" if torch.cuda.is_available() else \"cpu\" \n",
        "\n",
        "print('CPU count: {}'.format(os.cpu_count()))  # 2"
      ],
      "execution_count": 2,
      "outputs": [
        {
          "output_type": "stream",
          "text": [
            "Pytorch version: 1.8.1+cu101\n",
            "Is GPU available: True\n",
            "Tesla T4\n",
            "The number of GPUs available: 1\n",
            "CPU count: 2\n"
          ],
          "name": "stdout"
        }
      ]
    },
    {
      "cell_type": "markdown",
      "metadata": {
        "id": "bBA68zt_3CmU"
      },
      "source": [
        "# Prepare data"
      ]
    },
    {
      "cell_type": "code",
      "metadata": {
        "colab": {
          "base_uri": "https://localhost:8080/"
        },
        "id": "R63UKbH0wOIi",
        "outputId": "fdc5e559-29c1-448b-fc78-2a90336de99e"
      },
      "source": [
        "!wget https://aistages-public-junyeop.s3.amazonaws.com/app/Competitions/000015/data/data.tar.gz\n",
        "!mkdir input\n",
        "!tar -xzf data.tar.gz -C ./input\n",
        "!rm data.tar.gz"
      ],
      "execution_count": 3,
      "outputs": [
        {
          "output_type": "stream",
          "text": [
            "--2021-06-07 10:27:05--  https://aistages-public-junyeop.s3.amazonaws.com/app/Competitions/000015/data/data.tar.gz\n",
            "Resolving aistages-public-junyeop.s3.amazonaws.com (aistages-public-junyeop.s3.amazonaws.com)... 52.219.58.6\n",
            "Connecting to aistages-public-junyeop.s3.amazonaws.com (aistages-public-junyeop.s3.amazonaws.com)|52.219.58.6|:443... connected.\n",
            "HTTP request sent, awaiting response... 200 OK\n",
            "Length: 490693783 (468M) [application/x-gzip]\n",
            "Saving to: ‘data.tar.gz’\n",
            "\n",
            "data.tar.gz         100%[===================>] 467.96M  16.6MB/s    in 30s     \n",
            "\n",
            "2021-06-07 10:27:36 (15.5 MB/s) - ‘data.tar.gz’ saved [490693783/490693783]\n",
            "\n",
            "mkdir: cannot create directory ‘input’: File exists\n"
          ],
          "name": "stdout"
        }
      ]
    },
    {
      "cell_type": "markdown",
      "metadata": {
        "id": "q7Da2Qduu-j2"
      },
      "source": [
        "# Set the hyperparameters and fix the seed"
      ]
    },
    {
      "cell_type": "code",
      "metadata": {
        "id": "GW6wr99nubZ8"
      },
      "source": [
        "batch_size = 8  # Mini-batch size\n",
        "num_epochs = 25\n",
        "learning_rate = 5e-04"
      ],
      "execution_count": 4,
      "outputs": []
    },
    {
      "cell_type": "code",
      "metadata": {
        "id": "ldCLgwXLvOAo"
      },
      "source": [
        "# fix the seed\n",
        "random_seed = 21\n",
        "torch.manual_seed(random_seed)\n",
        "torch.cuda.manual_seed(random_seed)\n",
        "torch.cuda.manual_seed_all(random_seed) # if use multi-GPU\n",
        "torch.backends.cudnn.deterministic = True\n",
        "torch.backends.cudnn.benchmark = False\n",
        "np.random.seed(random_seed)\n",
        "random.seed(random_seed)"
      ],
      "execution_count": 5,
      "outputs": []
    },
    {
      "cell_type": "markdown",
      "metadata": {
        "id": "Hjuiair7vV4J"
      },
      "source": [
        "# EDA of the training data"
      ]
    },
    {
      "cell_type": "code",
      "metadata": {
        "colab": {
          "base_uri": "https://localhost:8080/"
        },
        "id": "3ffls0hfvSC-",
        "outputId": "27cff53d-0943-4cd3-b28e-68e772d79145"
      },
      "source": [
        "%matplotlib inline\n",
        "\n",
        "dataset_path = 'input'\n",
        "anns_file_path = os.path.join(dataset_path, 'train.json')\n",
        "\n",
        "# Read annotations\n",
        "with open(anns_file_path, 'r') as f:\n",
        "    dataset = json.loads(f.read())\n",
        "\n",
        "categories = dataset['categories']\n",
        "anns = dataset['annotations']\n",
        "imgs = dataset['images']\n",
        "nr_cats = len(categories)\n",
        "nr_annotations = len(anns)\n",
        "nr_images = len(imgs)\n",
        "\n",
        "# Load categories and super categories\n",
        "cat_names = []\n",
        "super_cat_names = []\n",
        "super_cat_ids = {}\n",
        "super_cat_last_name = ''\n",
        "nr_super_cats = 0\n",
        "for cat_it in categories:\n",
        "    cat_names.append(cat_it['name'])\n",
        "    super_cat_name = cat_it['supercategory']\n",
        "    # Adding new supercat\n",
        "    if super_cat_name != super_cat_last_name:\n",
        "        super_cat_names.append(super_cat_name)\n",
        "        super_cat_ids[super_cat_name] = nr_super_cats\n",
        "        super_cat_last_name = super_cat_name\n",
        "        nr_super_cats += 1\n",
        "\n",
        "print('Number of super categories:', nr_super_cats)\n",
        "print('Number of categories:', nr_cats)\n",
        "print('Number of annotations:', nr_annotations)\n",
        "print('Number of images:', nr_images)"
      ],
      "execution_count": 6,
      "outputs": [
        {
          "output_type": "stream",
          "text": [
            "Number of super categories: 11\n",
            "Number of categories: 11\n",
            "Number of annotations: 21116\n",
            "Number of images: 2617\n"
          ],
          "name": "stdout"
        }
      ]
    },
    {
      "cell_type": "code",
      "metadata": {
        "colab": {
          "base_uri": "https://localhost:8080/",
          "height": 355
        },
        "id": "EOtpD5js3Vy5",
        "outputId": "a283aabc-65af-4c66-88b3-9a9351422e5c"
      },
      "source": [
        "# Count annotations\n",
        "cat_histogram = np.zeros(nr_cats,dtype=int)\n",
        "for ann in anns:\n",
        "    cat_histogram[ann['category_id']] += 1\n",
        "\n",
        "# Initialize the matplotlib figure\n",
        "f, ax = plt.subplots(figsize=(5,5))\n",
        "\n",
        "# Convert to DataFrame\n",
        "df = pd.DataFrame({'Categories': cat_names, 'Number of annotations': cat_histogram})\n",
        "df = df.sort_values('Number of annotations', 0, False)\n",
        "\n",
        "# Plot the histogram\n",
        "plt.title(\"category distribution of train set \")\n",
        "plot_1 = sns.barplot(x=\"Number of annotations\", y=\"Categories\", data=df, label=\"Total\", color=\"b\")"
      ],
      "execution_count": 7,
      "outputs": [
        {
          "output_type": "display_data",
          "data": {
            "image/png": "[encoded data removed]",
            "text/plain": [
              "<Figure size 360x360 with 1 Axes>"
            ]
          },
          "metadata": {
            "tags": [],
            "needs_background": "light"
          }
        }
      ]
    },
    {
      "cell_type": "code",
      "metadata": {
        "colab": {
          "base_uri": "https://localhost:8080/",
          "height": 418
        },
        "id": "XecVByfN3Wuy",
        "outputId": "50d6d53f-714f-4a8b-f575-0231b15e46f8"
      },
      "source": [
        "sorted_temp_df = df.sort_index()\n",
        "sorted_df = pd.DataFrame([\"Backgroud\"], columns = [\"Categories\"])\n",
        "sorted_df = sorted_df.append(sorted_temp_df, ignore_index=True)\n",
        "sorted_df"
      ],
      "execution_count": 8,
      "outputs": [
        {
          "output_type": "execute_result",
          "data": {
            "text/html": [
              "<div>\n",
              "<style scoped>\n",
              "    .dataframe tbody tr th:only-of-type {\n",
              "        vertical-align: middle;\n",
              "    }\n",
              "\n",
              "    .dataframe tbody tr th {\n",
              "        vertical-align: top;\n",
              "    }\n",
              "\n",
              "    .dataframe thead th {\n",
              "        text-align: right;\n",
              "    }\n",
              "</style>\n",
              "<table border=\"1\" class=\"dataframe\">\n",
              "  <thead>\n",
              "    <tr style=\"text-align: right;\">\n",
              "      <th></th>\n",
              "      <th>Categories</th>\n",
              "      <th>Number of annotations</th>\n",
              "    </tr>\n",
              "  </thead>\n",
              "  <tbody>\n",
              "    <tr>\n",
              "      <th>0</th>\n",
              "      <td>Backgroud</td>\n",
              "      <td>NaN</td>\n",
              "    </tr>\n",
              "    <tr>\n",
              "      <th>1</th>\n",
              "      <td>UNKNOWN</td>\n",
              "      <td>128.0</td>\n",
              "    </tr>\n",
              "    <tr>\n",
              "      <th>2</th>\n",
              "      <td>General trash</td>\n",
              "      <td>2225.0</td>\n",
              "    </tr>\n",
              "    <tr>\n",
              "      <th>3</th>\n",
              "      <td>Paper</td>\n",
              "      <td>7448.0</td>\n",
              "    </tr>\n",
              "    <tr>\n",
              "      <th>4</th>\n",
              "      <td>Paper pack</td>\n",
              "      <td>527.0</td>\n",
              "    </tr>\n",
              "    <tr>\n",
              "      <th>5</th>\n",
              "      <td>Metal</td>\n",
              "      <td>449.0</td>\n",
              "    </tr>\n",
              "    <tr>\n",
              "      <th>6</th>\n",
              "      <td>Glass</td>\n",
              "      <td>488.0</td>\n",
              "    </tr>\n",
              "    <tr>\n",
              "      <th>7</th>\n",
              "      <td>Plastic</td>\n",
              "      <td>2472.0</td>\n",
              "    </tr>\n",
              "    <tr>\n",
              "      <th>8</th>\n",
              "      <td>Styrofoam</td>\n",
              "      <td>1074.0</td>\n",
              "    </tr>\n",
              "    <tr>\n",
              "      <th>9</th>\n",
              "      <td>Plastic bag</td>\n",
              "      <td>6114.0</td>\n",
              "    </tr>\n",
              "    <tr>\n",
              "      <th>10</th>\n",
              "      <td>Battery</td>\n",
              "      <td>50.0</td>\n",
              "    </tr>\n",
              "    <tr>\n",
              "      <th>11</th>\n",
              "      <td>Clothing</td>\n",
              "      <td>141.0</td>\n",
              "    </tr>\n",
              "  </tbody>\n",
              "</table>\n",
              "</div>"
            ],
            "text/plain": [
              "       Categories  Number of annotations\n",
              "0       Backgroud                    NaN\n",
              "1         UNKNOWN                  128.0\n",
              "2   General trash                 2225.0\n",
              "3           Paper                 7448.0\n",
              "4      Paper pack                  527.0\n",
              "5           Metal                  449.0\n",
              "6           Glass                  488.0\n",
              "7         Plastic                 2472.0\n",
              "8       Styrofoam                 1074.0\n",
              "9     Plastic bag                 6114.0\n",
              "10        Battery                   50.0\n",
              "11       Clothing                  141.0"
            ]
          },
          "metadata": {
            "tags": []
          },
          "execution_count": 8
        }
      ]
    },
    {
      "cell_type": "markdown",
      "metadata": {
        "id": "yxWCzu1-_dVD"
      },
      "source": [
        "# Make a CustomDataset class"
      ]
    },
    {
      "cell_type": "code",
      "metadata": {
        "id": "xVIVLWiT_ceM"
      },
      "source": [
        "category_names = list(sorted_df.Categories)\n",
        "\n",
        "def get_classname(classID, cats):\n",
        "    for i in range(len(cats)):\n",
        "        if cats[i]['id']==classID:\n",
        "            return cats[i]['name']\n",
        "    return \"None\"\n",
        "\n",
        "def mask2arr(mask):\n",
        "    arr = np.zeros((12,mask.shape[0],mask.shape[1]))\n",
        "    for i in range(12):\n",
        "        arr[i,:,:] = np.where(mask==i,1,0)\n",
        "    return torch.from_numpy(arr)\n",
        "\n",
        "\n",
        "class CustomDataset(Dataset):\n",
        "    \"\"\"COCO format\"\"\"\n",
        "    def __init__(self, data_dir, mode = 'train', transform = None,preprocessing=None):\n",
        "        super().__init__()\n",
        "        self.mode = mode\n",
        "        self.transform = transform\n",
        "        self.coco = COCO(data_dir)\n",
        "        self.preprocessing = preprocessing\n",
        "        \n",
        "        \n",
        "    def __getitem__(self, index: int):\n",
        "        # Get the image_info using coco library\n",
        "        image_id = self.coco.getImgIds(imgIds=index)\n",
        "        image_infos = self.coco.loadImgs(image_id)[0]\n",
        "\n",
        "        # Load the image using opencv\n",
        "        images = cv2.imread(os.path.join(dataset_path, image_infos['file_name']))\n",
        "        images = cv2.cvtColor(images, cv2.COLOR_BGR2RGB).astype(np.float32)\n",
        "        images /= 255.0\n",
        "        \n",
        "        if (self.mode in ('train', 'val')):\n",
        "            ann_ids = self.coco.getAnnIds(imgIds=image_infos['id'])\n",
        "            anns = self.coco.loadAnns(ann_ids)\n",
        "            # print(\"image_infos['id'] : {}\".format(image_infos['id']) )\n",
        "            # Load the categories in a variable\n",
        "            cat_ids = self.coco.getCatIds()\n",
        "            cats = self.coco.loadCats(cat_ids)\n",
        "\n",
        "            # masks_size : height x width            \n",
        "            masks = np.zeros((image_infos[\"height\"], image_infos[\"width\"]))\n",
        "            for i in range(len(anns)):\n",
        "                className = get_classname(anns[i]['category_id'], cats)\n",
        "                pixel_value = category_names.index(className)\n",
        "                masks = np.maximum(self.coco.annToMask(anns[i])*pixel_value, masks)\n",
        "            masks = masks.astype(np.float32)\n",
        "            # Background = 0, Unknown = 1, General trash = 2, ... , Cigarette = 11\n",
        "            # for i in range(len(anns)):\n",
        "            #     id=anns[i]['category_id']+1\n",
        "            #     masks[id,:,:] = np.maximum(self.coco.annToMask(anns[i]), masks[id,:,:])\n",
        "\n",
        "            # masks[0,:,:] = np.sum(masks[1:,:,:],axis=0)\n",
        "            # masks[0,:,:] = np.where(masks[0,:,:]>=1,0,1)\n",
        "            # masks = masks.astype(np.float32)\n",
        "\n",
        "            # We can use Albumentations for image & mask transformation(or augmentation)\n",
        "            if self.transform is not None:\n",
        "                transformed = self.transform(image=images, mask=masks)\n",
        "                images = transformed[\"image\"]\n",
        "                masks = transformed[\"mask\"]\n",
        "                masks =  masks.squeeze()\n",
        "            if self.preprocessing:\n",
        "                preprocessed = self.preprocessing(image=images, mask=masks)\n",
        "                images = preprocessed['image']\n",
        "                masks = preprocessed['mask']\n",
        "       \n",
        "           # print(masks.shape)\n",
        "            masks = mask2arr(masks)\n",
        "            \n",
        "            return images.type(torch.FloatTensor), masks.type(torch.FloatTensor) #, image_infos\n",
        "        \n",
        "        if self.mode == 'test':            \n",
        "            if self.transform is not None:\n",
        "                transformed = self.transform(image=images)\n",
        "                images = transformed[\"image\"]\n",
        "            \n",
        "            return images.type(torch.FloatTensor), image_infos\n",
        "    \n",
        "    \n",
        "    def __len__(self) -> int:        \n",
        "        return len(self.coco.getImgIds())"
      ],
      "execution_count": 9,
      "outputs": []
    },
    {
      "cell_type": "markdown",
      "metadata": {
        "id": "4SCcpeQphi_J"
      },
      "source": [
        "[{'id': 0, 'name': 'UNKNOWN', 'supercategory': 'UNKNOWN'},\n",
        " {'id': 1, 'name': 'General trash', 'supercategory': 'General trash'},\n",
        " {'id': 2, 'name': 'Paper', 'supercategory': 'Paper'},\n",
        " {'id': 3, 'name': 'Paper pack', 'supercategory': 'Paper pack'},\n",
        " {'id': 4, 'name': 'Metal', 'supercategory': 'Metal'},\n",
        " {'id': 5, 'name': 'Glass', 'supercategory': 'Glass'},\n",
        " {'id': 6, 'name': 'Plastic', 'supercategory': 'Plastic'},\n",
        " {'id': 7, 'name': 'Styrofoam', 'supercategory': 'Styrofoam'},\n",
        " {'id': 8, 'name': 'Plastic bag', 'supercategory': 'Plastic bag'},\n",
        " {'id': 9, 'name': 'Battery', 'supercategory': 'Battery'},\n",
        " {'id': 10, 'name': 'Clothing', 'supercategory': 'Clothing'}]"
      ]
    },
    {
      "cell_type": "markdown",
      "metadata": {
        "id": "wGx9Byge_9Ab"
      },
      "source": [
        "# Create instances of CustomDataset and Assign it to DataLoader"
      ]
    },
    {
      "cell_type": "code",
      "metadata": {
        "id": "XIQtybXTAa3Q"
      },
      "source": [
        "train_path = os.path.join(dataset_path, 'train.json')\n",
        "val_path = os.path.join(dataset_path, 'val.json')\n",
        "test_path = os.path.join(dataset_path, 'test.json')\n",
        "\n",
        "# collate_fn needs for batch\n",
        "def collate_fn(batch):\n",
        "    return tuple(zip(*batch))\n",
        "\n",
        "def get_training_augmentation():\n",
        "    train_transform = [\n",
        "       # A.CropNonEmptyMaskIfExists(320, 480),\n",
        "        A.HorizontalFlip(p=0.5),\n",
        "        A.VerticalFlip(p=0.5),\n",
        "        A.ShiftScaleRotate(\n",
        "            scale_limit=0.5,\n",
        "            rotate_limit=0,\n",
        "            shift_limit=0.1,\n",
        "            p=0.5,\n",
        "            border_mode=0\n",
        "        ),\n",
        "        A.GridDistortion(p=0.5),\n",
        "       # A.Resize(400, 400),\n",
        "       # A.Normalize(mean=(0.485, 0.456, 0.406), std=(0.229, 0.224, 0.225)),\n",
        "        ToTensorV2(),\n",
        "    ]\n",
        "    return A.Compose(train_transform)\n",
        "\n",
        "\n",
        "def get_validation_augmentation():\n",
        "    \"\"\"Add paddings to make image shape divisible by 32\"\"\"\n",
        "    test_transform = [\n",
        "        A.Resize(512, 512),\n",
        "     #  A.Normalize(mean=(0.485, 0.456, 0.406), std=(0.229, 0.224, 0.225)),\n",
        "       ToTensorV2(),\n",
        "    ]\n",
        "    return A.Compose(test_transform)\n",
        "\n",
        "test_transform = A.Compose([    \n",
        "    ToTensorV2(),\n",
        "])\n",
        "\n",
        "def to_tensor(x, **kwargs):\n",
        "    \"\"\"\n",
        "    Convert image or mask.\n",
        "    \"\"\"\n",
        "    return x.transpose(2, 0, 1).astype('float32')\n",
        "\n",
        "\n",
        "def get_preprocessing(preprocessing_fn):\n",
        "    \"\"\"Construct preprocessing transform\n",
        "    \n",
        "    Args:\n",
        "        preprocessing_fn (callbale): data normalization function \n",
        "            (can be specific for each pretrained neural network)\n",
        "    Return:\n",
        "        transform: albumentations.Compose\n",
        "    \n",
        "    \"\"\"\n",
        "    \n",
        "    _transform = [\n",
        "        A.Lambda(image=preprocessing_fn),\n",
        "         ToTensorV2()\n",
        "       # A.Lambda(image=to_tensor, mask=to_tensor),\n",
        "    ]\n",
        "    return A.Compose(_transform)\n",
        "\n"
      ],
      "execution_count": 10,
      "outputs": []
    },
    {
      "cell_type": "code",
      "metadata": {
        "id": "VViUutteiZhB"
      },
      "source": [
        "# def mask2arr(mask):\n",
        "#    arr = np.zeros((12,mask.shape[0],mask.shape[1]))\n",
        "#    for i in range(12):\n",
        "#      arr[i,:,:] = np.where(mask==i,1,0)\n",
        "#    return arr\n",
        "\n",
        "def arr2mask(arr):\n",
        "    batch = arr.shape[0]\n",
        "    mask = np.zeros((batch, arr.shape[2],arr.shape[3]))\n",
        "    for b in range(batch):\n",
        "        for i in range(12):\n",
        "            mask[b,:,:] = np.where(arr[b,i,:,:]==1,i,mask[b,:,:])\n",
        "    return mask\n",
        "\n",
        "def arr2mask2D(arr):\n",
        "  \n",
        "    mask = np.zeros((arr.shape[1],arr.shape[2]))\n",
        "    for i in range(12):\n",
        "        mask[:,:] = np.where(arr[i,:,:]==1,i,mask[:,:])\n",
        "    return mask"
      ],
      "execution_count": 11,
      "outputs": []
    },
    {
      "cell_type": "markdown",
      "metadata": {
        "id": "Fm0z0lgpnPus"
      },
      "source": [
        ""
      ]
    },
    {
      "cell_type": "markdown",
      "metadata": {
        "id": "L6FU4lGEBEdX"
      },
      "source": [
        "# Show a sample by dataloader"
      ]
    },
    {
      "cell_type": "markdown",
      "metadata": {
        "id": "znx8n1cWzi67"
      },
      "source": [
        "### train_loader\n",
        "This train_loader loads the data for training."
      ]
    },
    {
      "cell_type": "code",
      "metadata": {
        "id": "PzUKb9kFBGaC"
      },
      "source": [
        "# for imgs, masks, image_infos in train_loader:\n",
        "#     image_infos = image_infos[0]\n",
        "#     temp_images = imgs\n",
        "#     temp_masks = masks\n",
        "#     break\n",
        "\n",
        "# fig, (ax1, ax2) = plt.subplots(nrows=1, ncols=2, figsize=(12, 12))\n",
        "\n",
        "# print('image shape:', list(temp_images[0].shape))\n",
        "# print('mask shape: ', list(temp_masks[0].shape))\n",
        "# print('Unique values, category of transformed mask : \\n', [{int(i),category_names[int(i)]} for i in list(np.unique(arr2mask2D(temp_masks[0])))])\n",
        "\n",
        "# ax1.imshow(temp_images[0].permute([1,2,0]))\n",
        "# ax1.grid(False)\n",
        "# ax1.set_title(\"input image : {}\".format(image_infos['file_name']), fontsize = 15)\n",
        "\n",
        "# ax2.imshow(arr2mask2D(temp_masks[0]))\n",
        "# ax2.grid(False)\n",
        "# ax2.set_title(\"masks : {}\".format(image_infos['file_name']), fontsize = 15)\n",
        "\n",
        "# plt.show()"
      ],
      "execution_count": 12,
      "outputs": []
    },
    {
      "cell_type": "markdown",
      "metadata": {
        "id": "nak6s1xZEtsH"
      },
      "source": [
        "# Baseline model\n",
        "- Here, we show you the UNet with EfficientNet-B0 encoder model. \n",
        "- We just built this baseline model with using a small model, no image augmentation, no fine-tuned hyper-parameters, etc.\n",
        "- you can build your model based on this baseline model and you can improve the model in your own way."
      ]
    },
    {
      "cell_type": "code",
      "metadata": {
        "colab": {
          "base_uri": "https://localhost:8080/"
        },
        "id": "Tt1FaTbk5Pjd",
        "outputId": "4ebf679c-cff4-4b05-a337-d542ce9528de"
      },
      "source": [
        "!pip install git+https://github.com/qubvel/segmentation_models.pytorch\n",
        "\n",
        "import segmentation_models_pytorch as smp"
      ],
      "execution_count": 13,
      "outputs": [
        {
          "output_type": "stream",
          "text": [
            "Collecting git+https://github.com/qubvel/segmentation_models.pytorch\n",
            "  Cloning https://github.com/qubvel/segmentation_models.pytorch to /tmp/pip-req-build-xs81u1o3\n",
            "  Running command git clone -q https://github.com/qubvel/segmentation_models.pytorch /tmp/pip-req-build-xs81u1o3\n",
            "Requirement already satisfied (use --upgrade to upgrade): segmentation-models-pytorch==0.1.3 from git+https://github.com/qubvel/segmentation_models.pytorch in /usr/local/lib/python3.7/dist-packages\n",
            "Requirement already satisfied: torchvision>=0.3.0 in /usr/local/lib/python3.7/dist-packages (from segmentation-models-pytorch==0.1.3) (0.9.1+cu101)\n",
            "Requirement already satisfied: pretrainedmodels==0.7.4 in /usr/local/lib/python3.7/dist-packages (from segmentation-models-pytorch==0.1.3) (0.7.4)\n",
            "Requirement already satisfied: efficientnet-pytorch==0.6.3 in /usr/local/lib/python3.7/dist-packages (from segmentation-models-pytorch==0.1.3) (0.6.3)\n",
            "Requirement already satisfied: timm==0.3.2 in /usr/local/lib/python3.7/dist-packages (from segmentation-models-pytorch==0.1.3) (0.3.2)\n",
            "Requirement already satisfied: torch==1.8.1 in /usr/local/lib/python3.7/dist-packages (from torchvision>=0.3.0->segmentation-models-pytorch==0.1.3) (1.8.1+cu101)\n",
            "Requirement already satisfied: numpy in /usr/local/lib/python3.7/dist-packages (from torchvision>=0.3.0->segmentation-models-pytorch==0.1.3) (1.19.5)\n",
            "Requirement already satisfied: pillow>=4.1.1 in /usr/local/lib/python3.7/dist-packages (from torchvision>=0.3.0->segmentation-models-pytorch==0.1.3) (7.1.2)\n",
            "Requirement already satisfied: tqdm in /usr/local/lib/python3.7/dist-packages (from pretrainedmodels==0.7.4->segmentation-models-pytorch==0.1.3) (4.41.1)\n",
            "Requirement already satisfied: munch in /usr/local/lib/python3.7/dist-packages (from pretrainedmodels==0.7.4->segmentation-models-pytorch==0.1.3) (2.5.0)\n",
            "Requirement already satisfied: typing-extensions in /usr/local/lib/python3.7/dist-packages (from torch==1.8.1->torchvision>=0.3.0->segmentation-models-pytorch==0.1.3) (3.7.4.3)\n",
            "Requirement already satisfied: six in /usr/local/lib/python3.7/dist-packages (from munch->pretrainedmodels==0.7.4->segmentation-models-pytorch==0.1.3) (1.15.0)\n",
            "Building wheels for collected packages: segmentation-models-pytorch\n",
            "  Building wheel for segmentation-models-pytorch (setup.py) ... \u001b[?25l\u001b[?25hdone\n",
            "  Created wheel for segmentation-models-pytorch: filename=segmentation_models_pytorch-0.1.3-cp37-none-any.whl size=83178 sha256=ffe869b30dcddc0cc9d6c6a235591ea06b2c3943b3ff7d1653ed516a20abc76f\n",
            "  Stored in directory: /tmp/pip-ephem-wheel-cache-2o1oj0rp/wheels/79/3f/09/1587a252e0314d26ad242d6d2e165622ab95c95e5cfe4b942c\n",
            "Successfully built segmentation-models-pytorch\n"
          ],
          "name": "stdout"
        }
      ]
    },
    {
      "cell_type": "code",
      "metadata": {
        "id": "IWMfF6dDEtVx"
      },
      "source": [
        "ENCODER = 'efficientnet-b4'\n",
        "ENCODER_WEIGHTS = 'imagenet'\n",
        "DEVICE = 'cuda'\n",
        "\n",
        "ACTIVATION = 'softmax2d'\n",
        "model = smp.Unet(\n",
        "    encoder_name=ENCODER, \n",
        "    encoder_weights=ENCODER_WEIGHTS, \n",
        "    classes=12, \n",
        "    activation=ACTIVATION,\n",
        ")\n",
        "model.to(DEVICE)\n",
        "preprocessing_fn = smp.encoders.get_preprocessing_fn(ENCODER, ENCODER_WEIGHTS)"
      ],
      "execution_count": 14,
      "outputs": []
    },
    {
      "cell_type": "markdown",
      "metadata": {
        "id": "5WX_Z-xxE47b"
      },
      "source": [
        "# Define the train, validation, test functions"
      ]
    },
    {
      "cell_type": "code",
      "metadata": {
        "id": "uzJ-qNJCEw62"
      },
      "source": [
        "def f_score(pr, gt, beta=1, eps=1e-7, threshold=None, activation='sigmoid'):\n",
        "    \"\"\"\n",
        "    Args:\n",
        "        pr (torch.Tensor): A list of predicted elements\n",
        "        gt (torch.Tensor):  A list of elements that are to be predicted\n",
        "        eps (float): epsilon to avoid zero division\n",
        "        threshold: threshold for outputs binarization\n",
        "    Returns:\n",
        "        float: IoU (Jaccard) score\n",
        "    \"\"\"\n",
        "\n",
        "    if activation is None or activation == \"none\":\n",
        "        activation_fn = lambda x: x\n",
        "    elif activation == \"sigmoid\":\n",
        "        activation_fn = torch.nn.Sigmoid()\n",
        "    elif activation == \"softmax2d\":\n",
        "        activation_fn = torch.nn.Softmax2d()\n",
        "    else:\n",
        "        raise NotImplementedError(\n",
        "            \"Activation implemented for sigmoid and softmax2d\"\n",
        "        )\n",
        "\n",
        "    pr = activation_fn(pr)\n",
        "\n",
        "    if threshold is not None:\n",
        "        pr = (pr > threshold).float()\n",
        "\n",
        "\n",
        "    tp = torch.sum(gt * pr)\n",
        "    fp = torch.sum(pr) - tp\n",
        "    fn = torch.sum(gt) - tp\n",
        "\n",
        "    score = ((1 + beta ** 2) * tp + eps) \\\n",
        "            / ((1 + beta ** 2) * tp + beta ** 2 * fn + fp + eps)\n",
        "\n",
        "    return score\n",
        "\n",
        "\n",
        "class DiceLoss(nn.Module):\n",
        "    __name__ = 'dice_loss'\n",
        "\n",
        "    def __init__(self, eps=1e-7, activation='sigmoid'):\n",
        "        super().__init__()\n",
        "        self.activation = activation\n",
        "        self.eps = eps\n",
        "\n",
        "    def forward(self, y_pr, y_gt):\n",
        "        return 1 - f_score(y_pr, y_gt, beta=1., \n",
        "                           eps=self.eps, threshold=None, \n",
        "                           activation=self.activation)\n",
        "\n",
        "\n",
        "class BCEDiceLoss(DiceLoss):\n",
        "    __name__ = 'bce_dice_loss'\n",
        "\n",
        "    def __init__(self, eps=1e-7, activation='sigmoid', lambda_dice=1.0, lambda_bce=1.0):\n",
        "        super().__init__(eps, activation)\n",
        "        if activation == None:\n",
        "            self.bce = nn.BCELoss(reduction='mean')\n",
        "        else:\n",
        "            self.bce = nn.BCEWithLogitsLoss(reduction='mean')\n",
        "        self.lambda_dice=lambda_dice\n",
        "        self.lambda_bce=lambda_bce\n",
        "\n",
        "    def forward(self, y_pr, y_gt):\n",
        "        dice = super().forward(y_pr, y_gt)\n",
        "        bce = self.bce(y_pr, y_gt)\n",
        "        return (self.lambda_dice*dice) + (self.lambda_bce* bce)"
      ],
      "execution_count": 15,
      "outputs": []
    },
    {
      "cell_type": "code",
      "metadata": {
        "id": "YEgmQniSI2Xc"
      },
      "source": [
        "# define the evaluation function\n",
        "# https://github.com/wkentaro/pytorch-fcn/blob/master/torchfcn/utils.py\n",
        "import numpy as np\n",
        "\n",
        "def _fast_hist(label_true, label_pred, n_class):\n",
        "    mask = (label_true >= 0) & (label_true < n_class)\n",
        "    hist = np.bincount(\n",
        "        n_class * label_true[mask].astype(int) +\n",
        "        label_pred[mask], minlength=n_class ** 2).reshape(n_class, n_class)\n",
        "    return hist\n",
        "\n",
        "\n",
        "def label_accuracy_score(label_trues, label_preds, n_class=12):\n",
        "    \"\"\"Returns accuracy score evaluation result.\n",
        "      - overall accuracy\n",
        "      - mean accuracy\n",
        "      - mean IU\n",
        "      - fwavacc\n",
        "    \"\"\"\n",
        "    # label_trues = arr2mask(label_trues.detach().cpu().numpy())\n",
        "    # label_preds = torch.argmax(label_preds.squeeze(), dim=1).detach().cpu().numpy()\n",
        "    hist = np.zeros((n_class, n_class))\n",
        "    for lt, lp in zip(label_trues, label_preds):\n",
        "        hist += _fast_hist(lt.flatten(), lp.flatten(), n_class)\n",
        "    acc = np.diag(hist).sum() / hist.sum()\n",
        "    with np.errstate(divide='ignore', invalid='ignore'):\n",
        "        acc_cls = np.diag(hist) / hist.sum(axis=1)\n",
        "    acc_cls = np.nanmean(acc_cls)\n",
        "    with np.errstate(divide='ignore', invalid='ignore'):\n",
        "        iu = np.diag(hist) / (\n",
        "            hist.sum(axis=1) + hist.sum(axis=0) - np.diag(hist)\n",
        "        )\n",
        "    mean_iu = np.nanmean(iu)\n",
        "\n",
        "    return  mean_iu"
      ],
      "execution_count": 16,
      "outputs": []
    },
    {
      "cell_type": "markdown",
      "metadata": {
        "id": "GU5fR2sxE-Rs"
      },
      "source": [
        "# Define the function to save the model"
      ]
    },
    {
      "cell_type": "code",
      "metadata": {
        "id": "ktxlRlASE8Vl",
        "colab": {
          "base_uri": "https://localhost:8080/"
        },
        "outputId": "2708981d-2e6b-4684-80e4-87ccd5fb121d"
      },
      "source": [
        "train_dataset = CustomDataset(data_dir=train_path, mode='train', transform=get_training_augmentation())  #,preprocessing=get_preprocessing(preprocessing_fn)\n",
        "\n",
        "\n",
        "# validation dataset\n",
        "val_dataset = CustomDataset(data_dir=val_path, mode='val', transform=get_validation_augmentation()) #,preprocessing=get_preprocessing(preprocessing_fn)\n",
        "\n",
        "\n",
        "# test dataset\n",
        "test_dataset = CustomDataset(data_dir=test_path, mode='test', transform=test_transform) #,preprocessing=get_preprocessing(preprocessing_fn)\n",
        "\n",
        "\n",
        "\n",
        "train_loader = torch.utils.data.DataLoader(dataset=train_dataset, \n",
        "                                           batch_size=batch_size,\n",
        "                                           shuffle=True,\n",
        "                                           num_workers=1,\n",
        "                                          )\n",
        "\n",
        "val_loader = torch.utils.data.DataLoader(dataset=val_dataset, \n",
        "                                         batch_size=batch_size,\n",
        "                                         shuffle=True,\n",
        "                                         num_workers=1,\n",
        "                                        )\n",
        "\n",
        "test_loader = torch.utils.data.DataLoader(dataset=test_dataset,\n",
        "                                          batch_size=4,\n",
        "                                          num_workers=1,\n",
        "                                          collate_fn=collate_fn)"
      ],
      "execution_count": 17,
      "outputs": [
        {
          "output_type": "stream",
          "text": [
            "loading annotations into memory...\n",
            "Done (t=3.33s)\n",
            "creating index...\n",
            "index created!\n",
            "loading annotations into memory...\n",
            "Done (t=0.67s)\n",
            "creating index...\n",
            "index created!\n",
            "loading annotations into memory...\n",
            "Done (t=0.02s)\n",
            "creating index...\n",
            "index created!\n"
          ],
          "name": "stdout"
        }
      ]
    },
    {
      "cell_type": "code",
      "metadata": {
        "id": "F3CfXbRUZGgW"
      },
      "source": [
        "from torch.optim.lr_scheduler import StepLR, ReduceLROnPlateau, CosineAnnealingLR\n",
        "\n",
        "#model = smp.Unet(encoder_name='efficientnet-b4', classes=12 , encoder_weights=\"imagenet\")\n",
        "loss = BCEDiceLoss()\n",
        "# criterion = nn.CrossEntropyLoss()\n",
        "optimizer = torch.optim.Adam([\n",
        "    {'params': model.decoder.parameters(), 'lr': 5e-2}, \n",
        "    {'params': model.encoder.parameters(), 'lr': 5e-3},  \n",
        "])\n",
        "#scheduler = ReduceLROnPlateau(optimizer, factor=0.15, patience=2)\n",
        "\n",
        "metrics = [\n",
        "    #label_accuracy_score,      \n",
        "    smp.utils.metrics.IoU(threshold=0.7),\n",
        "]"
      ],
      "execution_count": 18,
      "outputs": []
    },
    {
      "cell_type": "code",
      "metadata": {
        "id": "-KwOBR4hZkIz"
      },
      "source": [
        "train_epoch = smp.utils.train.TrainEpoch(\n",
        "    model, \n",
        "    loss=loss, \n",
        "    metrics=metrics, \n",
        "    optimizer=optimizer,\n",
        "    device=DEVICE,\n",
        "    verbose=True,\n",
        ")\n",
        "\n",
        "valid_epoch = smp.utils.train.ValidEpoch(\n",
        "    model, \n",
        "    loss=loss, \n",
        "    metrics=metrics, \n",
        "    device=DEVICE,\n",
        "    verbose=True,\n",
        ")"
      ],
      "execution_count": 19,
      "outputs": []
    },
    {
      "cell_type": "code",
      "metadata": {
        "colab": {
          "base_uri": "https://localhost:8080/",
          "height": 908
        },
        "id": "fAiYHDZt5pFN",
        "outputId": "e9c678cc-88e8-4ba5-9c86-cdfbaa36df52"
      },
      "source": [
        "max_score = 0\n",
        "\n",
        "for i in range(0, 15):\n",
        "    print('\\nEpoch: {}'.format(i))\n",
        "    train_logs = train_epoch.run(train_loader)\n",
        "    valid_logs = valid_epoch.run(val_loader)\n",
        "    \n",
        "    # do something (save model, change lr, etc.)\n",
        "    if max_score < valid_logs['iou_score']:\n",
        "        max_score = valid_logs['iou_score']\n",
        "        torch.save(model, './best_model.pth')\n",
        "        print('Model saved!')\n",
        "        \n",
        "    if i == 5:\n",
        "        optimizer.param_groups[0]['lr'] = 1e-3\n",
        "        print('Decrease decoder learning rate to 1e-3!')\n",
        "\n",
        "    if i == 10:\n",
        "      optimizer.param_groups[0]['lr'] = 1e-5\n",
        "      print('Decrease decoder learning rate to 1e-5!')\n",
        "      \n"
      ],
      "execution_count": 20,
      "outputs": [
        {
          "output_type": "stream",
          "text": [
            "\n",
            "Epoch: 0\n",
            "train: 100%|██████████| 328/328 [06:19<00:00,  1.16s/it, bce_dice_loss - 1.502, iou_score - 0.5827]\n",
            "valid: 100%|██████████| 82/82 [00:51<00:00,  1.58it/s, bce_dice_loss - 1.501, iou_score - 0.5652]\n",
            "Model saved!\n",
            "\n",
            "Epoch: 1\n",
            "train: 100%|██████████| 328/328 [06:19<00:00,  1.16s/it, bce_dice_loss - 1.494, iou_score - 0.6288]\n",
            "valid: 100%|██████████| 82/82 [00:50<00:00,  1.61it/s, bce_dice_loss - 1.498, iou_score - 0.5874]\n",
            "Model saved!\n",
            "\n",
            "Epoch: 2\n",
            "train: 100%|██████████| 328/328 [06:19<00:00,  1.16s/it, bce_dice_loss - 1.493, iou_score - 0.634]\n",
            "valid: 100%|██████████| 82/82 [00:51<00:00,  1.61it/s, bce_dice_loss - 1.499, iou_score - 0.5788]\n",
            "\n",
            "Epoch: 3\n",
            "train: 100%|██████████| 328/328 [06:19<00:00,  1.16s/it, bce_dice_loss - 1.492, iou_score - 0.6427]\n",
            "valid: 100%|██████████| 82/82 [00:51<00:00,  1.59it/s, bce_dice_loss - 1.491, iou_score - 0.6532]\n",
            "Model saved!\n",
            "\n",
            "Epoch: 4\n",
            "train: 100%|██████████| 328/328 [06:19<00:00,  1.16s/it, bce_dice_loss - 1.492, iou_score - 0.6446]\n",
            "valid: 100%|██████████| 82/82 [00:47<00:00,  1.73it/s, bce_dice_loss - 1.494, iou_score - 0.6245]\n",
            "\n",
            "Epoch: 5\n",
            "train: 100%|██████████| 328/328 [06:21<00:00,  1.16s/it, bce_dice_loss - 1.492, iou_score - 0.6412]\n",
            "valid: 100%|██████████| 82/82 [00:50<00:00,  1.61it/s, bce_dice_loss - 1.495, iou_score - 0.6159]\n",
            "Decrease decoder learning rate to 1e-3!\n",
            "\n",
            "Epoch: 6\n",
            "train:  11%|█         | 36/328 [00:43<05:51,  1.20s/it, bce_dice_loss - 1.493, iou_score - 0.6306]\n"
          ],
          "name": "stdout"
        },
        {
          "output_type": "error",
          "ename": "KeyboardInterrupt",
          "evalue": "ignored",
          "traceback": [
            "\u001b[0;31m---------------------------------------------------------------------------\u001b[0m",
            "\u001b[0;31mKeyboardInterrupt\u001b[0m                         Traceback (most recent call last)",
            "\u001b[0;32m<ipython-input-20-3a0df6c92024>\u001b[0m in \u001b[0;36m<module>\u001b[0;34m()\u001b[0m\n\u001b[1;32m      3\u001b[0m \u001b[0;32mfor\u001b[0m \u001b[0mi\u001b[0m \u001b[0;32min\u001b[0m \u001b[0mrange\u001b[0m\u001b[0;34m(\u001b[0m\u001b[0;36m0\u001b[0m\u001b[0;34m,\u001b[0m \u001b[0;36m15\u001b[0m\u001b[0;34m)\u001b[0m\u001b[0;34m:\u001b[0m\u001b[0;34m\u001b[0m\u001b[0;34m\u001b[0m\u001b[0m\n\u001b[1;32m      4\u001b[0m     \u001b[0mprint\u001b[0m\u001b[0;34m(\u001b[0m\u001b[0;34m'\\nEpoch: {}'\u001b[0m\u001b[0;34m.\u001b[0m\u001b[0mformat\u001b[0m\u001b[0;34m(\u001b[0m\u001b[0mi\u001b[0m\u001b[0;34m)\u001b[0m\u001b[0;34m)\u001b[0m\u001b[0;34m\u001b[0m\u001b[0;34m\u001b[0m\u001b[0m\n\u001b[0;32m----> 5\u001b[0;31m     \u001b[0mtrain_logs\u001b[0m \u001b[0;34m=\u001b[0m \u001b[0mtrain_epoch\u001b[0m\u001b[0;34m.\u001b[0m\u001b[0mrun\u001b[0m\u001b[0;34m(\u001b[0m\u001b[0mtrain_loader\u001b[0m\u001b[0;34m)\u001b[0m\u001b[0;34m\u001b[0m\u001b[0;34m\u001b[0m\u001b[0m\n\u001b[0m\u001b[1;32m      6\u001b[0m     \u001b[0mvalid_logs\u001b[0m \u001b[0;34m=\u001b[0m \u001b[0mvalid_epoch\u001b[0m\u001b[0;34m.\u001b[0m\u001b[0mrun\u001b[0m\u001b[0;34m(\u001b[0m\u001b[0mval_loader\u001b[0m\u001b[0;34m)\u001b[0m\u001b[0;34m\u001b[0m\u001b[0;34m\u001b[0m\u001b[0m\n\u001b[1;32m      7\u001b[0m \u001b[0;34m\u001b[0m\u001b[0m\n",
            "\u001b[0;32m/usr/local/lib/python3.7/dist-packages/segmentation_models_pytorch/utils/train.py\u001b[0m in \u001b[0;36mrun\u001b[0;34m(self, dataloader)\u001b[0m\n\u001b[1;32m     45\u001b[0m             \u001b[0;32mfor\u001b[0m \u001b[0mx\u001b[0m\u001b[0;34m,\u001b[0m \u001b[0my\u001b[0m \u001b[0;32min\u001b[0m \u001b[0miterator\u001b[0m\u001b[0;34m:\u001b[0m\u001b[0;34m\u001b[0m\u001b[0;34m\u001b[0m\u001b[0m\n\u001b[1;32m     46\u001b[0m                 \u001b[0mx\u001b[0m\u001b[0;34m,\u001b[0m \u001b[0my\u001b[0m \u001b[0;34m=\u001b[0m \u001b[0mx\u001b[0m\u001b[0;34m.\u001b[0m\u001b[0mto\u001b[0m\u001b[0;34m(\u001b[0m\u001b[0mself\u001b[0m\u001b[0;34m.\u001b[0m\u001b[0mdevice\u001b[0m\u001b[0;34m)\u001b[0m\u001b[0;34m,\u001b[0m \u001b[0my\u001b[0m\u001b[0;34m.\u001b[0m\u001b[0mto\u001b[0m\u001b[0;34m(\u001b[0m\u001b[0mself\u001b[0m\u001b[0;34m.\u001b[0m\u001b[0mdevice\u001b[0m\u001b[0;34m)\u001b[0m\u001b[0;34m\u001b[0m\u001b[0;34m\u001b[0m\u001b[0m\n\u001b[0;32m---> 47\u001b[0;31m                 \u001b[0mloss\u001b[0m\u001b[0;34m,\u001b[0m \u001b[0my_pred\u001b[0m \u001b[0;34m=\u001b[0m \u001b[0mself\u001b[0m\u001b[0;34m.\u001b[0m\u001b[0mbatch_update\u001b[0m\u001b[0;34m(\u001b[0m\u001b[0mx\u001b[0m\u001b[0;34m,\u001b[0m \u001b[0my\u001b[0m\u001b[0;34m)\u001b[0m\u001b[0;34m\u001b[0m\u001b[0;34m\u001b[0m\u001b[0m\n\u001b[0m\u001b[1;32m     48\u001b[0m \u001b[0;34m\u001b[0m\u001b[0m\n\u001b[1;32m     49\u001b[0m                 \u001b[0;31m# update loss logs\u001b[0m\u001b[0;34m\u001b[0m\u001b[0;34m\u001b[0m\u001b[0;34m\u001b[0m\u001b[0m\n",
            "\u001b[0;32m/usr/local/lib/python3.7/dist-packages/segmentation_models_pytorch/utils/train.py\u001b[0m in \u001b[0;36mbatch_update\u001b[0;34m(self, x, y)\u001b[0m\n\u001b[1;32m     87\u001b[0m         \u001b[0mprediction\u001b[0m \u001b[0;34m=\u001b[0m \u001b[0mself\u001b[0m\u001b[0;34m.\u001b[0m\u001b[0mmodel\u001b[0m\u001b[0;34m.\u001b[0m\u001b[0mforward\u001b[0m\u001b[0;34m(\u001b[0m\u001b[0mx\u001b[0m\u001b[0;34m)\u001b[0m\u001b[0;34m\u001b[0m\u001b[0;34m\u001b[0m\u001b[0m\n\u001b[1;32m     88\u001b[0m         \u001b[0mloss\u001b[0m \u001b[0;34m=\u001b[0m \u001b[0mself\u001b[0m\u001b[0;34m.\u001b[0m\u001b[0mloss\u001b[0m\u001b[0;34m(\u001b[0m\u001b[0mprediction\u001b[0m\u001b[0;34m,\u001b[0m \u001b[0my\u001b[0m\u001b[0;34m)\u001b[0m\u001b[0;34m\u001b[0m\u001b[0;34m\u001b[0m\u001b[0m\n\u001b[0;32m---> 89\u001b[0;31m         \u001b[0mloss\u001b[0m\u001b[0;34m.\u001b[0m\u001b[0mbackward\u001b[0m\u001b[0;34m(\u001b[0m\u001b[0;34m)\u001b[0m\u001b[0;34m\u001b[0m\u001b[0;34m\u001b[0m\u001b[0m\n\u001b[0m\u001b[1;32m     90\u001b[0m         \u001b[0mself\u001b[0m\u001b[0;34m.\u001b[0m\u001b[0moptimizer\u001b[0m\u001b[0;34m.\u001b[0m\u001b[0mstep\u001b[0m\u001b[0;34m(\u001b[0m\u001b[0;34m)\u001b[0m\u001b[0;34m\u001b[0m\u001b[0;34m\u001b[0m\u001b[0m\n\u001b[1;32m     91\u001b[0m         \u001b[0;32mreturn\u001b[0m \u001b[0mloss\u001b[0m\u001b[0;34m,\u001b[0m \u001b[0mprediction\u001b[0m\u001b[0;34m\u001b[0m\u001b[0;34m\u001b[0m\u001b[0m\n",
            "\u001b[0;32m/usr/local/lib/python3.7/dist-packages/torch/tensor.py\u001b[0m in \u001b[0;36mbackward\u001b[0;34m(self, gradient, retain_graph, create_graph, inputs)\u001b[0m\n\u001b[1;32m    243\u001b[0m                 \u001b[0mcreate_graph\u001b[0m\u001b[0;34m=\u001b[0m\u001b[0mcreate_graph\u001b[0m\u001b[0;34m,\u001b[0m\u001b[0;34m\u001b[0m\u001b[0;34m\u001b[0m\u001b[0m\n\u001b[1;32m    244\u001b[0m                 inputs=inputs)\n\u001b[0;32m--> 245\u001b[0;31m         \u001b[0mtorch\u001b[0m\u001b[0;34m.\u001b[0m\u001b[0mautograd\u001b[0m\u001b[0;34m.\u001b[0m\u001b[0mbackward\u001b[0m\u001b[0;34m(\u001b[0m\u001b[0mself\u001b[0m\u001b[0;34m,\u001b[0m \u001b[0mgradient\u001b[0m\u001b[0;34m,\u001b[0m \u001b[0mretain_graph\u001b[0m\u001b[0;34m,\u001b[0m \u001b[0mcreate_graph\u001b[0m\u001b[0;34m,\u001b[0m \u001b[0minputs\u001b[0m\u001b[0;34m=\u001b[0m\u001b[0minputs\u001b[0m\u001b[0;34m)\u001b[0m\u001b[0;34m\u001b[0m\u001b[0;34m\u001b[0m\u001b[0m\n\u001b[0m\u001b[1;32m    246\u001b[0m \u001b[0;34m\u001b[0m\u001b[0m\n\u001b[1;32m    247\u001b[0m     \u001b[0;32mdef\u001b[0m \u001b[0mregister_hook\u001b[0m\u001b[0;34m(\u001b[0m\u001b[0mself\u001b[0m\u001b[0;34m,\u001b[0m \u001b[0mhook\u001b[0m\u001b[0;34m)\u001b[0m\u001b[0;34m:\u001b[0m\u001b[0;34m\u001b[0m\u001b[0;34m\u001b[0m\u001b[0m\n",
            "\u001b[0;32m/usr/local/lib/python3.7/dist-packages/torch/autograd/__init__.py\u001b[0m in \u001b[0;36mbackward\u001b[0;34m(tensors, grad_tensors, retain_graph, create_graph, grad_variables, inputs)\u001b[0m\n\u001b[1;32m    145\u001b[0m     Variable._execution_engine.run_backward(\n\u001b[1;32m    146\u001b[0m         \u001b[0mtensors\u001b[0m\u001b[0;34m,\u001b[0m \u001b[0mgrad_tensors_\u001b[0m\u001b[0;34m,\u001b[0m \u001b[0mretain_graph\u001b[0m\u001b[0;34m,\u001b[0m \u001b[0mcreate_graph\u001b[0m\u001b[0;34m,\u001b[0m \u001b[0minputs\u001b[0m\u001b[0;34m,\u001b[0m\u001b[0;34m\u001b[0m\u001b[0;34m\u001b[0m\u001b[0m\n\u001b[0;32m--> 147\u001b[0;31m         allow_unreachable=True, accumulate_grad=True)  # allow_unreachable flag\n\u001b[0m\u001b[1;32m    148\u001b[0m \u001b[0;34m\u001b[0m\u001b[0m\n\u001b[1;32m    149\u001b[0m \u001b[0;34m\u001b[0m\u001b[0m\n",
            "\u001b[0;31mKeyboardInterrupt\u001b[0m: "
          ]
        }
      ]
    },
    {
      "cell_type": "markdown",
      "metadata": {
        "id": "WhveOi36FAKU"
      },
      "source": [
        "# Create instances of loss function and optimizer"
      ]
    },
    {
      "cell_type": "markdown",
      "metadata": {
        "id": "jP0goxOfKm8R"
      },
      "source": [
        "# Train"
      ]
    },
    {
      "cell_type": "markdown",
      "metadata": {
        "id": "7yvoWgsmFNX_"
      },
      "source": [
        "# Load the saved model "
      ]
    },
    {
      "cell_type": "code",
      "metadata": {
        "id": "HNL9T_fIFTgR"
      },
      "source": [
        "# import segmentation_models_pytorch as smp\n",
        "\n",
        "# # path of saved best model\n",
        "# model_path = './saved/best_model.pt'\n",
        "\n",
        "# # initialize the model\n",
        "# model = smp.Unet(encoder_name='efficientnet-b1', classes=12 , encoder_weights=None, activation=None).to(device)\n",
        "\n",
        "# # load the saved best model\n",
        "# checkpoint = torch.load(model_path, map_location=device)\n",
        "# state_dict = checkpoint.state_dict()\n",
        "# model.load_state_dict(state_dict)\n",
        "\n",
        "# # switch to evaluation mode\n",
        "# model.eval()\n",
        "# print('')"
      ],
      "execution_count": null,
      "outputs": []
    },
    {
      "cell_type": "markdown",
      "metadata": {
        "id": "aIw8_NC9Mtee"
      },
      "source": [
        " # Inference\n",
        " Infer one sample and show the our model prediction result to make sure our model works correctly."
      ]
    },
    {
      "cell_type": "code",
      "metadata": {
        "id": "kiHX-B6d03-k"
      },
      "source": [
        "# outs=model(temp_images[0].cuda().unsqueeze(0))\n",
        "# oms = torch.argmax(outs, dim=1).detach().cpu().numpy()"
      ],
      "execution_count": null,
      "outputs": []
    },
    {
      "cell_type": "code",
      "metadata": {
        "id": "Es1bnd6S5Z7r"
      },
      "source": [
        "# np.stack(temp_masks).shape"
      ],
      "execution_count": null,
      "outputs": []
    },
    {
      "cell_type": "code",
      "metadata": {
        "id": "6bTcLHMH4wM7"
      },
      "source": [
        "def _threshold(x, threshold=None):\n",
        "    if threshold is not None:\n",
        "        return (x > threshold).type(x.dtype)\n",
        "    else:\n",
        "        return x"
      ],
      "execution_count": null,
      "outputs": []
    },
    {
      "cell_type": "code",
      "metadata": {
        "id": "ZbviVc5RS3UJ"
      },
      "source": [
        "for imgs, image_infos in test_loader:\n",
        "    image_infos = image_infos\n",
        "    temp_images = imgs\n",
        "    \n",
        "    model.eval()\n",
        "    # inference\n",
        "    outs = model(torch.stack(temp_images).to(device))\n",
        "    outs = _threshold(outs,0.7)\n",
        "    oms = torch.argmax(outs.squeeze(), dim=1).detach().cpu().numpy()\n",
        "    \n",
        "   \n",
        "    for i in range(4):\n",
        "        fig, (ax1, ax2) = plt.subplots(nrows=1, ncols=2, figsize=(16, 16))\n",
        "\n",
        "        print('Shape of Original Image :', list(temp_images[i].shape))\n",
        "        print('Shape of Predicted : ', list(oms[i].shape))\n",
        "        print('Unique values, category of transformed mask : \\n', [{int(i),category_names[int(i)]} for i in list(np.unique(oms[i]))])\n",
        "\n",
        "        # Original image\n",
        "        ax1.imshow(temp_images[i].permute([1,2,0]))\n",
        "        ax1.grid(False)\n",
        "        ax1.set_title(\"Original image : {}\".format(image_infos[i]['file_name']), fontsize = 15)\n",
        "\n",
        "        # Predicted mask\n",
        "        ax2.imshow(oms[i])\n",
        "        ax2.grid(False)\n",
        "        ax2.set_title(\"Predicted : {}\".format(image_infos[i]['file_name']), fontsize = 15)\n",
        "\n",
        "        plt.show()\n"
      ],
      "execution_count": null,
      "outputs": []
    },
    {
      "cell_type": "code",
      "metadata": {
        "id": "C5N7u6ysAKJM"
      },
      "source": [
        "\n",
        "\n",
        "# val_dataset = CustomDataset(data_dir=val_path, mode='val', transform=get_validation_augmentation(),preprocessing=get_preprocessing(preprocessing_fn))\n",
        "\n",
        "# val_loader = torch.utils.data.DataLoader(dataset=val_dataset, \n",
        "#                                          batch_size=2,\n",
        "#                                          shuffle=True,\n",
        "#                                          num_workers=1,\n",
        "#                                         )\n",
        "# for imgs, masks in val_loader:\n",
        "#     mask = arr2mask(masks)\n",
        "#     temp_images = imgs\n",
        "#     model.eval()\n",
        "#     # inference\n",
        "#     outs = model(temp_images.to(device))\n",
        "#     outs = _threshold(outs,0.8)\n",
        "#     oms = torch.argmax(outs.squeeze(), dim=1).detach().cpu().numpy()\n",
        "    \n",
        "   \n",
        "#     for i in range(2):\n",
        "#         fig, (ax1, ax2,ax3) = plt.subplots(nrows=1, ncols=3, figsize=(16, 16))\n",
        "\n",
        "#         print('Shape of Original Image :', list(temp_images[i].shape))\n",
        "#         print('Shape of Predicted : ', list(oms[i].shape))\n",
        "#         print('Unique values, category of transformed mask : \\n', [{int(i),category_names[int(i)]} for i in list(np.unique(oms[i]))])\n",
        "\n",
        "#         # Original image\n",
        "#         ax1.imshow(temp_images[i].permute([1,2,0]))\n",
        "#         ax1.grid(False)\n",
        "#         #ax1.set_title(\"Original image : {}\".format(image_infos[i]['file_name']), fontsize = 15)\n",
        "\n",
        "#         # Predicted mask\n",
        "#         ax2.imshow(oms[i])\n",
        "#         ax2.grid(False)\n",
        "        \n",
        "#         ax3.imshow(mask[i])\n",
        "#         ax3.grid(False)\n",
        "#         #ax2.set_title(\"Predicted : {}\".format(image_infos[i]['file_name']), fontsize = 15)\n",
        "\n",
        "#         plt.show()"
      ],
      "execution_count": null,
      "outputs": []
    },
    {
      "cell_type": "code",
      "metadata": {
        "id": "f-yONDQcCZRr"
      },
      "source": [
        "mIoU_list = []\n",
        "for imgs, masks in val_loader:\n",
        "    outs = model(imgs.to(device))\n",
        "    outs = _threshold(outs,0.7)\n",
        "    oms = torch.argmax(outs.squeeze(), dim=1).detach().cpu().numpy()\n",
        "    masks = arr2mask(masks)\n",
        "    mIoU = label_accuracy_score(masks,oms)\n",
        "    mIoU_list.append(mIoU)\n",
        "    #print('mIoU: {:.4f}'.format(mIoU))\n",
        "\n",
        "\n",
        "print('mIoU: {:.4f}'.format(np.mean(mIoU_list)))\n"
      ],
      "execution_count": null,
      "outputs": []
    },
    {
      "cell_type": "markdown",
      "metadata": {
        "id": "ga0MBgD3S_iI"
      },
      "source": [
        "# Define the test function to submit model prediction"
      ]
    },
    {
      "cell_type": "code",
      "metadata": {
        "id": "X8UJe53xS8Q0"
      },
      "source": [
        "def test(model, data_loader, device):\n",
        "    size = 256\n",
        "    transform = A.Compose([A.Resize(256, 256)])\n",
        "    print('Start prediction.')\n",
        "    model.eval()\n",
        "    \n",
        "    file_name_list = []\n",
        "    preds_array = np.empty((0, size*size), dtype=np.long)\n",
        "    \n",
        "    with torch.no_grad():\n",
        "        for step, (imgs, image_infos) in enumerate(test_loader):\n",
        "\n",
        "            # inference (512 x 512)\n",
        "            outs = model(torch.stack(imgs).to(device))\n",
        "            outs = _threshold(outs,0.7)\n",
        "            oms = torch.argmax(outs.squeeze(), dim=1).detach().cpu().numpy()\n",
        "            \n",
        "            # resize (256 x 256)\n",
        "            temp_mask = []\n",
        "            for img, mask in zip(np.stack(temp_images), oms):\n",
        "                transformed = transform(image=img, mask=mask)\n",
        "                mask = transformed['mask']\n",
        "                temp_mask.append(mask)\n",
        "\n",
        "            oms = np.array(temp_mask)\n",
        "            \n",
        "            oms = oms.reshape([oms.shape[0], size*size]).astype(int)\n",
        "            preds_array = np.vstack((preds_array, oms))\n",
        "            \n",
        "            file_name_list.append([i['file_name'] for i in image_infos])\n",
        "    print(\"End prediction.\")\n",
        "    file_names = [y for x in file_name_list for y in x]\n",
        "    \n",
        "    return file_names, preds_array"
      ],
      "execution_count": null,
      "outputs": []
    },
    {
      "cell_type": "markdown",
      "metadata": {
        "id": "rlQ8RNa5TC0Y"
      },
      "source": [
        "# Make a submission"
      ]
    },
    {
      "cell_type": "code",
      "metadata": {
        "id": "DZUgLi7ATExx"
      },
      "source": [
        "# inference\n",
        "file_names, preds = test(model, test_loader, device)\n",
        "submission = pd.DataFrame()\n",
        "\n",
        "submission['image_id'] = file_names\n",
        "submission['PredictionString'] = [' '.join(str(e) for e in string.tolist()) for string in preds]\n",
        "\n",
        "# save submission.csv\n",
        "submission.to_csv(\"submission.csv\", index=False)"
      ],
      "execution_count": null,
      "outputs": []
    },
    {
      "cell_type": "markdown",
      "metadata": {
        "id": "bTy4AewxXpEr"
      },
      "source": [
        "# Submit to the leaderboard"
      ]
    },
    {
      "cell_type": "markdown",
      "metadata": {
        "id": "9rOuiFjrXpEr"
      },
      "source": [
        "You have to submit your 'submission.csv' file to the leaderboard. You can connect directly to the submission page using the link below.\n",
        "http://dev.stages.ai/competitions/15/submission"
      ]
    }
  ]
}